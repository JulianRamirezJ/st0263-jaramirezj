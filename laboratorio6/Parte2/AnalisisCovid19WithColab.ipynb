{
  "cells": [
    {
      "cell_type": "code",
      "source": [
        "!apt-get install openjdk-8-jdk-headless -qq > /dev/null"
      ],
      "metadata": {
        "id": "B9C1DKc99W5O"
      },
      "execution_count": 1,
      "outputs": []
    },
    {
      "cell_type": "code",
      "source": [
        "!wget -q -O  /opt/spark-3.3.2-bin-hadoop2.tgz https://dlcdn.apache.org/spark/spark-3.3.2/spark-3.3.2-bin-hadoop2.tgz\n",
        "!tar xf /opt/spark-3.3.2-bin-hadoop2.tgz"
      ],
      "metadata": {
        "id": "c7ofRu9t9YGo"
      },
      "execution_count": 3,
      "outputs": []
    },
    {
      "cell_type": "code",
      "source": [
        "import os\n",
        "os.environ[\"JAVA_HOME\"] = \"/usr/lib/jvm/java-8-openjdk-amd64\"\n",
        "os.environ[\"SPARK_HOME\"] = '/content/spark-3.3.2-bin-hadoop2'\n",
        "!export JAVA_HOME=\"/usr/lib/jvm/java-8-openjdk-amd64\"\n",
        "!export SPARK_HOME=\"/content/spark-3.3.2-bin-hadoop2\""
      ],
      "metadata": {
        "id": "9BngO3_B9V53"
      },
      "execution_count": 5,
      "outputs": []
    },
    {
      "cell_type": "code",
      "source": [
        "!pip install -q findspark\n",
        "import findspark\n",
        "findspark.init()\n",
        "findspark.find()"
      ],
      "metadata": {
        "colab": {
          "base_uri": "https://localhost:8080/",
          "height": 36
        },
        "id": "9MJzqVTs9IrH",
        "outputId": "43ba6fa8-60a1-4271-d5cd-c8da28db8d8d"
      },
      "execution_count": 6,
      "outputs": [
        {
          "output_type": "execute_result",
          "data": {
            "text/plain": [
              "'/content/spark-3.3.2-bin-hadoop2'"
            ],
            "application/vnd.google.colaboratory.intrinsic+json": {
              "type": "string"
            }
          },
          "metadata": {},
          "execution_count": 6
        }
      ]
    },
    {
      "cell_type": "code",
      "execution_count": 10,
      "metadata": {
        "id": "wRaPb2QU9ET3"
      },
      "outputs": [],
      "source": [
        "from pyspark.sql import SparkSession"
      ]
    },
    {
      "cell_type": "code",
      "execution_count": 11,
      "metadata": {
        "id": "JZ8_tJaL9ET6"
      },
      "outputs": [],
      "source": [
        "spark=SparkSession.builder.appName('data_processing').getOrCreate()"
      ]
    },
    {
      "cell_type": "code",
      "source": [
        "from google.colab import drive\n",
        "drive.mount('/content/drive')"
      ],
      "metadata": {
        "colab": {
          "base_uri": "https://localhost:8080/"
        },
        "id": "YbjfZt_4_upl",
        "outputId": "47f7502c-56a2-4dc7-d253-286b45504fd9"
      },
      "execution_count": 7,
      "outputs": [
        {
          "output_type": "stream",
          "name": "stdout",
          "text": [
            "Mounted at /content/drive\n"
          ]
        }
      ]
    },
    {
      "cell_type": "code",
      "execution_count": 16,
      "metadata": {
        "id": "3LMKw3pk9ET6"
      },
      "outputs": [],
      "source": [
        "df=spark.read.csv('/content/drive/MyDrive/covid19/Casos_positivos_de_COVID-19_en_Colombia-100K.csv',inferSchema=True,header=True)"
      ]
    },
    {
      "cell_type": "code",
      "execution_count": 17,
      "metadata": {
        "colab": {
          "base_uri": "https://localhost:8080/"
        },
        "id": "GD3kTIpy9ET7",
        "outputId": "9cfc27e1-5d35-43c0-fb53-6c7e1d45425d"
      },
      "outputs": [
        {
          "output_type": "execute_result",
          "data": {
            "text/plain": [
              "['fecha reporte web',\n",
              " 'ID de caso',\n",
              " 'Fecha de notificación',\n",
              " 'Código DIVIPOLA departamento',\n",
              " 'Nombre departamento',\n",
              " 'Código DIVIPOLA municipio',\n",
              " 'Nombre municipio',\n",
              " 'Edad',\n",
              " 'Unidad de medida de edad',\n",
              " 'Sexo',\n",
              " 'Tipo de contagio',\n",
              " 'Ubicación del caso',\n",
              " 'Estado',\n",
              " 'Código ISO del país',\n",
              " 'Nombre del país',\n",
              " 'Recuperado',\n",
              " 'Fecha de inicio de síntomas',\n",
              " 'Fecha de muerte',\n",
              " 'Fecha de diagnóstico',\n",
              " 'Fecha de recuperación',\n",
              " 'Tipo de recuperación',\n",
              " 'Pertenencia étnica',\n",
              " 'Nombre del grupo étnico']"
            ]
          },
          "metadata": {},
          "execution_count": 17
        }
      ],
      "source": [
        "#2.1 columnas\n",
        "df.columns"
      ]
    },
    {
      "cell_type": "code",
      "execution_count": 18,
      "metadata": {
        "colab": {
          "base_uri": "https://localhost:8080/"
        },
        "id": "j22HAbg89ET7",
        "outputId": "0df69f80-8342-4caf-e5c8-e2e73b280342"
      },
      "outputs": [
        {
          "output_type": "stream",
          "name": "stdout",
          "text": [
            "root\n",
            " |-- fecha reporte web: string (nullable = true)\n",
            " |-- ID de caso: integer (nullable = true)\n",
            " |-- Fecha de notificación: string (nullable = true)\n",
            " |-- Código DIVIPOLA departamento: integer (nullable = true)\n",
            " |-- Nombre departamento: string (nullable = true)\n",
            " |-- Código DIVIPOLA municipio: integer (nullable = true)\n",
            " |-- Nombre municipio: string (nullable = true)\n",
            " |-- Edad: integer (nullable = true)\n",
            " |-- Unidad de medida de edad: integer (nullable = true)\n",
            " |-- Sexo: string (nullable = true)\n",
            " |-- Tipo de contagio: string (nullable = true)\n",
            " |-- Ubicación del caso: string (nullable = true)\n",
            " |-- Estado: string (nullable = true)\n",
            " |-- Código ISO del país: integer (nullable = true)\n",
            " |-- Nombre del país: string (nullable = true)\n",
            " |-- Recuperado: string (nullable = true)\n",
            " |-- Fecha de inicio de síntomas: string (nullable = true)\n",
            " |-- Fecha de muerte: string (nullable = true)\n",
            " |-- Fecha de diagnóstico: string (nullable = true)\n",
            " |-- Fecha de recuperación: string (nullable = true)\n",
            " |-- Tipo de recuperación: string (nullable = true)\n",
            " |-- Pertenencia étnica: integer (nullable = true)\n",
            " |-- Nombre del grupo étnico: string (nullable = true)\n",
            "\n"
          ]
        }
      ],
      "source": [
        "# 2.2 tipos de datos\n",
        "df.printSchema()"
      ]
    },
    {
      "cell_type": "code",
      "execution_count": 19,
      "metadata": {
        "colab": {
          "base_uri": "https://localhost:8080/"
        },
        "id": "gHTLLs3o9ET7",
        "outputId": "836f1700-6498-420a-c980-b36ad346aa09"
      },
      "outputs": [
        {
          "output_type": "stream",
          "name": "stdout",
          "text": [
            "+----------+-------------------+----+\n",
            "|ID de caso|Nombre departamento|Edad|\n",
            "+----------+-------------------+----+\n",
            "|         1|             BOGOTA|  19|\n",
            "|         2|              VALLE|  34|\n",
            "|         3|          ANTIOQUIA|  50|\n",
            "|         4|          ANTIOQUIA|  55|\n",
            "|         5|          ANTIOQUIA|  25|\n",
            "|         6|          ANTIOQUIA|  27|\n",
            "|         7|          CARTAGENA|  85|\n",
            "|         8|             BOGOTA|  22|\n",
            "|         9|             BOGOTA|  28|\n",
            "|        10|             BOGOTA|  36|\n",
            "+----------+-------------------+----+\n",
            "only showing top 10 rows\n",
            "\n"
          ]
        }
      ],
      "source": [
        "#   2.3 seleccionar algunas columnas\n",
        "df.select('ID de caso','Nombre departamento','Edad').show(10)"
      ]
    },
    {
      "cell_type": "code",
      "execution_count": 20,
      "metadata": {
        "colab": {
          "base_uri": "https://localhost:8080/"
        },
        "id": "UbirZWc39ET8",
        "outputId": "12d7de64-100d-4e24-e0bc-19a126ed7a73"
      },
      "outputs": [
        {
          "output_type": "execute_result",
          "data": {
            "text/plain": [
              "['fecha_reporte',\n",
              " 'id',\n",
              " 'fecha_notificacion',\n",
              " 'codigo_departamento',\n",
              " 'departamento',\n",
              " 'codigo_municipio',\n",
              " 'municipio',\n",
              " 'edad',\n",
              " 'Unidad de medida de edad',\n",
              " 'sexo',\n",
              " 'tipo_contagio',\n",
              " 'ubicacion_caso',\n",
              " 'estado',\n",
              " 'codigo_pais',\n",
              " 'nombre_pais',\n",
              " 'recuperado',\n",
              " 'fecha_inicio_sintomas',\n",
              " 'fecha_muerte',\n",
              " 'fecha_diagnostico',\n",
              " 'fecha_recuperacion',\n",
              " 'tipo_recuperacion',\n",
              " 'pertenencia_etnica',\n",
              " 'nombre_etnia']"
            ]
          },
          "metadata": {},
          "execution_count": 20
        }
      ],
      "source": [
        "# 2.4 Renombrar columnas\n",
        "df =df.withColumnRenamed(\"fecha reporte web\", \"fecha_reporte\")\n",
        "df =df.withColumnRenamed(\"ID de caso\", \"id\")\n",
        "df =df.withColumnRenamed(\"Fecha de notificación\", \"fecha_notificacion\")\n",
        "df =df.withColumnRenamed(\"Código DIVIPOLA departamento\", \"codigo_departamento\")\n",
        "df =df.withColumnRenamed(\"Nombre departamento\", \"departamento\")\n",
        "df =df.withColumnRenamed(\"Código DIVIPOLA municipio\", \"codigo_municipio\")\n",
        "df =df.withColumnRenamed(\"Nombre municipio\", \"municipio\")\n",
        "df =df.withColumnRenamed(\"Edad\", \"edad\")\n",
        "df =df.withColumnRenamed(\"Sexo\", \"sexo\")\n",
        "df =df.withColumnRenamed(\"Tipo de contagio\", \"tipo_contagio\")\n",
        "df =df.withColumnRenamed(\"Ubicación del caso\", \"ubicacion_caso\")\n",
        "df =df.withColumnRenamed(\"Estado\", \"estado\")\n",
        "df =df.withColumnRenamed(\"Código ISO del país\", \"codigo_pais\")\n",
        "df =df.withColumnRenamed(\"Nombre del país\", \"nombre_pais\")\n",
        "df =df.withColumnRenamed(\"Recuperado\", \"recuperado\")\n",
        "df =df.withColumnRenamed(\"Fecha de inicio de síntomas\", \"fecha_inicio_sintomas\")\n",
        "df =df.withColumnRenamed(\"Fecha de muerte\", \"fecha_muerte\")\n",
        "df =df.withColumnRenamed(\"Fecha de diagnóstico\", \"fecha_diagnostico\")\n",
        "df =df.withColumnRenamed(\"Fecha de recuperación\", \"fecha_recuperacion\")\n",
        "df =df.withColumnRenamed(\"Fecha de recuperación\", \"fecha_recuperacion\")\n",
        "df =df.withColumnRenamed(\"Tipo de recuperación\", \"tipo_recuperacion\")\n",
        "df =df.withColumnRenamed(\"Pertenencia étnica\", \"pertenencia_etnica\")\n",
        "df =df.withColumnRenamed(\"Nombre del grupo étnico\", \"nombre_etnia\")\n",
        "df.columns"
      ]
    },
    {
      "cell_type": "code",
      "execution_count": 21,
      "metadata": {
        "colab": {
          "base_uri": "https://localhost:8080/"
        },
        "id": "M7ogquyo9ET9",
        "outputId": "3dc3194c-623c-4279-adcd-4ca548f2b9d5"
      },
      "outputs": [
        {
          "output_type": "stream",
          "name": "stdout",
          "text": [
            "+-------------------+------------+---------+\n",
            "| ubicacion_completa|departamento|municipio|\n",
            "+-------------------+------------+---------+\n",
            "|     BOGOTA, BOGOTA|      BOGOTA|   BOGOTA|\n",
            "|        VALLE, BUGA|       VALLE|     BUGA|\n",
            "|ANTIOQUIA, MEDELLIN|   ANTIOQUIA| MEDELLIN|\n",
            "|ANTIOQUIA, MEDELLIN|   ANTIOQUIA| MEDELLIN|\n",
            "|ANTIOQUIA, MEDELLIN|   ANTIOQUIA| MEDELLIN|\n",
            "+-------------------+------------+---------+\n",
            "only showing top 5 rows\n",
            "\n"
          ]
        }
      ],
      "source": [
        "# 2.5 Agregar columnas\n",
        "from pyspark.sql.functions import concat, col, lit\n",
        "df = df.withColumn(\"ubicacion_completa\", concat(col(\"departamento\"), lit(\", \"), col(\"municipio\")))\n",
        "df.select('ubicacion_completa','departamento','municipio').show(5)"
      ]
    },
    {
      "cell_type": "code",
      "execution_count": 22,
      "metadata": {
        "scrolled": true,
        "colab": {
          "base_uri": "https://localhost:8080/"
        },
        "id": "1uSd5puA9ET9",
        "outputId": "a9aa4e54-54f7-4aad-bc99-a90b892ad8de"
      },
      "outputs": [
        {
          "output_type": "execute_result",
          "data": {
            "text/plain": [
              "['fecha_reporte',\n",
              " 'id',\n",
              " 'fecha_notificacion',\n",
              " 'codigo_departamento',\n",
              " 'departamento',\n",
              " 'codigo_municipio',\n",
              " 'municipio',\n",
              " 'edad',\n",
              " 'Unidad de medida de edad',\n",
              " 'sexo',\n",
              " 'tipo_contagio',\n",
              " 'ubicacion_caso',\n",
              " 'estado',\n",
              " 'codigo_pais',\n",
              " 'nombre_pais',\n",
              " 'recuperado',\n",
              " 'fecha_inicio_sintomas',\n",
              " 'fecha_muerte',\n",
              " 'fecha_diagnostico',\n",
              " 'fecha_recuperacion',\n",
              " 'tipo_recuperacion',\n",
              " 'ubicacion_completa']"
            ]
          },
          "metadata": {},
          "execution_count": 22
        }
      ],
      "source": [
        "# 2.6 borrar columnas\n",
        "df = df.drop(\"pertenencia_etnica\",\"nombre_etnia\")\n",
        "df.columns"
      ]
    },
    {
      "cell_type": "code",
      "execution_count": 23,
      "metadata": {
        "colab": {
          "base_uri": "https://localhost:8080/"
        },
        "id": "Nvx8o22h9ET-",
        "outputId": "c951b383-e84c-4879-94cb-b1796956c896"
      },
      "outputs": [
        {
          "output_type": "stream",
          "name": "stdout",
          "text": [
            "+---+----+\n",
            "| id|edad|\n",
            "+---+----+\n",
            "|  4|  55|\n",
            "|  7|  85|\n",
            "| 12|  74|\n",
            "| 13|  68|\n",
            "| 16|  61|\n",
            "| 17|  73|\n",
            "| 18|  54|\n",
            "| 19|  54|\n",
            "| 29|  55|\n",
            "| 31|  65|\n",
            "+---+----+\n",
            "only showing top 10 rows\n",
            "\n"
          ]
        }
      ],
      "source": [
        "# 2.7 Filtrar datos\n",
        "df.select('id','edad').filter(df['edad'] >50).show(10)"
      ]
    },
    {
      "cell_type": "code",
      "execution_count": 24,
      "metadata": {
        "colab": {
          "base_uri": "https://localhost:8080/"
        },
        "id": "B2ym78ve9ET_",
        "outputId": "2f729fce-e20c-435b-fc16-58e067af000b"
      },
      "outputs": [
        {
          "output_type": "stream",
          "name": "stdout",
          "text": [
            "+---+------------+\n",
            "| id|departamento|\n",
            "+---+------------+\n",
            "|  3|   ANTIOQUIA|\n",
            "|  4|   ANTIOQUIA|\n",
            "|  5|   ANTIOQUIA|\n",
            "|  6|   ANTIOQUIA|\n",
            "| 20|   ANTIOQUIA|\n",
            "+---+------------+\n",
            "only showing top 5 rows\n",
            "\n"
          ]
        }
      ],
      "source": [
        "df.select('id','departamento').filter(df['departamento'] == 'ANTIOQUIA').show(5)"
      ]
    },
    {
      "cell_type": "code",
      "execution_count": 25,
      "metadata": {
        "colab": {
          "base_uri": "https://localhost:8080/"
        },
        "id": "C4-b1ylE9ET_",
        "outputId": "32a23247-1321-42b0-cdc6-34c20a4de9e5"
      },
      "outputs": [
        {
          "output_type": "stream",
          "name": "stdout",
          "text": [
            "+----+-----------+\n",
            "|edad|doubled_age|\n",
            "+----+-----------+\n",
            "|  19|         38|\n",
            "|  34|         68|\n",
            "|  50|        100|\n",
            "|  55|        110|\n",
            "|  25|         50|\n",
            "+----+-----------+\n",
            "only showing top 5 rows\n",
            "\n"
          ]
        }
      ],
      "source": [
        "# 2.8 ejecutar alguna función UDF o lambda sobre alguna columna creando una nueva.\n",
        "from pyspark.sql.functions import udf\n",
        "fun_lambda = udf(lambda column_value: column_value * 2)\n",
        "df = df.withColumn(\"doubled_age\", fun_lambda(df[\"edad\"]))\n",
        "df.select('edad','doubled_age').show(5)"
      ]
    },
    {
      "cell_type": "code",
      "execution_count": null,
      "metadata": {
        "id": "_0PtkYUb9ET_"
      },
      "outputs": [],
      "source": [
        "# 3. contestar las siguientes preguntas de negocio sobre los datos de covid:"
      ]
    },
    {
      "cell_type": "code",
      "execution_count": null,
      "metadata": {
        "id": "Fwj30t9N9ET_"
      },
      "outputs": [],
      "source": [
        "#    3.1 Los 10 departamentos con más casos de covid en Colombia ordenados de mayor a menor."
      ]
    },
    {
      "cell_type": "code",
      "execution_count": 26,
      "metadata": {
        "colab": {
          "base_uri": "https://localhost:8080/"
        },
        "id": "3liYQXKc9ET_",
        "outputId": "1bb9ca32-b40f-4791-807a-131786dbc27b"
      },
      "outputs": [
        {
          "output_type": "stream",
          "name": "stdout",
          "text": [
            "+------------+-----+\n",
            "|departamento|count|\n",
            "+------------+-----+\n",
            "|      BOGOTA|30016|\n",
            "|BARRANQUILLA|13065|\n",
            "|   ATLANTICO|10994|\n",
            "|       VALLE|10404|\n",
            "|   CARTAGENA| 8333|\n",
            "|   ANTIOQUIA| 4554|\n",
            "|      NARIÑO| 3520|\n",
            "|CUNDINAMARCA| 2827|\n",
            "|    AMAZONAS| 2317|\n",
            "|       CHOCO| 1636|\n",
            "+------------+-----+\n",
            "\n"
          ]
        }
      ],
      "source": [
        "# Dataframes\n",
        "from pyspark.sql.functions import desc\n",
        "departamentos_casos = df.groupBy(\"departamento\").count()\n",
        "departamentos_casos = departamentos_casos.orderBy(desc(\"count\"))\n",
        "top_10_departamentos = departamentos_casos.limit(10)\n",
        "top_10_departamentos.show()"
      ]
    },
    {
      "cell_type": "code",
      "execution_count": 27,
      "metadata": {
        "colab": {
          "base_uri": "https://localhost:8080/"
        },
        "id": "mXNawyn49ET_",
        "outputId": "c6582a08-f6ae-4c4f-ac48-be8723a70e4f"
      },
      "outputs": [
        {
          "output_type": "stream",
          "name": "stdout",
          "text": [
            "+------------+-----+\n",
            "|departamento|casos|\n",
            "+------------+-----+\n",
            "|      BOGOTA|30016|\n",
            "|BARRANQUILLA|13065|\n",
            "|   ATLANTICO|10994|\n",
            "|       VALLE|10404|\n",
            "|   CARTAGENA| 8333|\n",
            "|   ANTIOQUIA| 4554|\n",
            "|      NARIÑO| 3520|\n",
            "|CUNDINAMARCA| 2827|\n",
            "|    AMAZONAS| 2317|\n",
            "|       CHOCO| 1636|\n",
            "+------------+-----+\n",
            "\n"
          ]
        }
      ],
      "source": [
        "# SparkSQL\n",
        "df.createOrReplaceTempView(\"covid_data\")\n",
        "top_10_departamentos = spark.sql(\"SELECT departamento, COUNT(*) AS casos FROM covid_data GROUP BY departamento ORDER BY casos DESC LIMIT 10\")\n",
        "top_10_departamentos.show()"
      ]
    },
    {
      "cell_type": "code",
      "execution_count": null,
      "metadata": {
        "id": "3qgMA7xO9ET_"
      },
      "outputs": [],
      "source": [
        "#      3.2 Las 10 ciudades con más casos de covid en Colombia ordenados de mayor a menor."
      ]
    },
    {
      "cell_type": "code",
      "execution_count": 28,
      "metadata": {
        "colab": {
          "base_uri": "https://localhost:8080/"
        },
        "id": "d8LqoWGT9EUA",
        "outputId": "9e260c05-5a5c-44c9-a072-cc78bb886d82"
      },
      "outputs": [
        {
          "output_type": "stream",
          "name": "stdout",
          "text": [
            "+------------+-----+\n",
            "|   municipio|count|\n",
            "+------------+-----+\n",
            "|      BOGOTA|30016|\n",
            "|BARRANQUILLA|13065|\n",
            "|   CARTAGENA| 8333|\n",
            "|        CALI| 7747|\n",
            "|     SOLEDAD| 6233|\n",
            "|     LETICIA| 2194|\n",
            "|    MEDELLIN| 2137|\n",
            "|      TUMACO| 1501|\n",
            "|BUENAVENTURA| 1453|\n",
            "|      QUIBDO| 1367|\n",
            "+------------+-----+\n",
            "\n"
          ]
        }
      ],
      "source": [
        "# Dataframes\n",
        "ciudades_casos = df.groupBy(\"municipio\").count()\n",
        "ciudades_casos = ciudades_casos.orderBy(desc(\"count\"))\n",
        "top_10_ciudades = ciudades_casos.limit(10)\n",
        "top_10_ciudades.show()"
      ]
    },
    {
      "cell_type": "code",
      "execution_count": 29,
      "metadata": {
        "colab": {
          "base_uri": "https://localhost:8080/"
        },
        "id": "UfJjLna99EUA",
        "outputId": "5b77042b-1e2d-4e48-a5c1-aedaf32281aa"
      },
      "outputs": [
        {
          "output_type": "stream",
          "name": "stdout",
          "text": [
            "+------------+-----+\n",
            "|   municipio|casos|\n",
            "+------------+-----+\n",
            "|      BOGOTA|30016|\n",
            "|BARRANQUILLA|13065|\n",
            "|   CARTAGENA| 8333|\n",
            "|        CALI| 7747|\n",
            "|     SOLEDAD| 6233|\n",
            "|     LETICIA| 2194|\n",
            "|    MEDELLIN| 2137|\n",
            "|      TUMACO| 1501|\n",
            "|BUENAVENTURA| 1453|\n",
            "|      QUIBDO| 1367|\n",
            "+------------+-----+\n",
            "\n"
          ]
        }
      ],
      "source": [
        "# SparkSQL\n",
        "top_10_ciudades = spark.sql(\"SELECT municipio, COUNT(*) AS casos FROM covid_data GROUP BY municipio ORDER BY casos DESC LIMIT 10\")\n",
        "top_10_ciudades.show()"
      ]
    },
    {
      "cell_type": "code",
      "execution_count": null,
      "metadata": {
        "id": "INQR62am9EUA"
      },
      "outputs": [],
      "source": [
        "#        3.3 Los 10 días con más casos de COVID-19 en Colombia ordenados de mayor a menor."
      ]
    },
    {
      "cell_type": "code",
      "execution_count": 30,
      "metadata": {
        "colab": {
          "base_uri": "https://localhost:8080/"
        },
        "id": "N8Q83N7C9EUA",
        "outputId": "a755d83d-b2f3-4cf8-8add-b06369fe1cd2"
      },
      "outputs": [
        {
          "output_type": "stream",
          "name": "stdout",
          "text": [
            "+-----------------+-----+\n",
            "|    fecha_reporte|count|\n",
            "+-----------------+-----+\n",
            "|27/6/2020 0:00:00| 4149|\n",
            "|26/6/2020 0:00:00| 3843|\n",
            "|24/6/2020 0:00:00| 3541|\n",
            "|25/6/2020 0:00:00| 3486|\n",
            "|29/6/2020 0:00:00| 3274|\n",
            "|28/6/2020 0:00:00| 3178|\n",
            "|18/6/2020 0:00:00| 3171|\n",
            "|19/6/2020 0:00:00| 3059|\n",
            "|21/6/2020 0:00:00| 3019|\n",
            "|30/6/2020 0:00:00| 2803|\n",
            "+-----------------+-----+\n",
            "\n"
          ]
        }
      ],
      "source": [
        "# Dataframes\n",
        "dias_casos = df.groupBy(\"fecha_reporte\").count()\n",
        "dias_casos = dias_casos.orderBy(desc(\"count\"))\n",
        "top_10_dias = dias_casos.limit(10)\n",
        "top_10_dias.show()"
      ]
    },
    {
      "cell_type": "code",
      "execution_count": 31,
      "metadata": {
        "colab": {
          "base_uri": "https://localhost:8080/"
        },
        "id": "DIrTJV4z9EUA",
        "outputId": "8595420c-7b82-40fb-f5f6-f026ffb95cb0"
      },
      "outputs": [
        {
          "output_type": "stream",
          "name": "stdout",
          "text": [
            "+-----------------+-----+\n",
            "|    fecha_reporte|casos|\n",
            "+-----------------+-----+\n",
            "|27/6/2020 0:00:00| 4149|\n",
            "|26/6/2020 0:00:00| 3843|\n",
            "|24/6/2020 0:00:00| 3541|\n",
            "|25/6/2020 0:00:00| 3486|\n",
            "|29/6/2020 0:00:00| 3274|\n",
            "|28/6/2020 0:00:00| 3178|\n",
            "|18/6/2020 0:00:00| 3171|\n",
            "|19/6/2020 0:00:00| 3059|\n",
            "|21/6/2020 0:00:00| 3019|\n",
            "|30/6/2020 0:00:00| 2803|\n",
            "+-----------------+-----+\n",
            "\n"
          ]
        }
      ],
      "source": [
        "#SparkSQL\n",
        "top_10_dias = spark.sql(\"SELECT fecha_reporte, COUNT(*) AS casos FROM covid_data GROUP BY fecha_reporte ORDER BY casos DESC LIMIT 10\")\n",
        "top_10_dias.show()"
      ]
    },
    {
      "cell_type": "code",
      "execution_count": null,
      "metadata": {
        "id": "D_D1_YrI9EUA"
      },
      "outputs": [],
      "source": [
        "#    3.4 Distribución de casos por edades de COVID-19 en Colombia."
      ]
    },
    {
      "cell_type": "code",
      "execution_count": 32,
      "metadata": {
        "colab": {
          "base_uri": "https://localhost:8080/"
        },
        "id": "LvhhbuDM9EUA",
        "outputId": "6db5968c-dfee-46d2-d46e-4005a23199ac"
      },
      "outputs": [
        {
          "output_type": "stream",
          "name": "stdout",
          "text": [
            "+----+-----+\n",
            "|edad|count|\n",
            "+----+-----+\n",
            "|  30| 2735|\n",
            "|  29| 2611|\n",
            "|  31| 2569|\n",
            "|  28| 2540|\n",
            "|  27| 2494|\n",
            "|  26| 2436|\n",
            "|  33| 2371|\n",
            "|  32| 2362|\n",
            "|  25| 2335|\n",
            "|  34| 2310|\n",
            "|  35| 2292|\n",
            "|  24| 2214|\n",
            "|  36| 2175|\n",
            "|  37| 2132|\n",
            "|  38| 2098|\n",
            "|  40| 2050|\n",
            "|  23| 2041|\n",
            "|  39| 1985|\n",
            "|  22| 1879|\n",
            "|  41| 1783|\n",
            "+----+-----+\n",
            "only showing top 20 rows\n",
            "\n"
          ]
        }
      ],
      "source": [
        "# Dataframes\n",
        "edades_casos = df.groupBy(\"edad\").count()\n",
        "edades_casos = edades_casos.orderBy(desc(\"count\"))\n",
        "edades_casos.show()"
      ]
    },
    {
      "cell_type": "code",
      "execution_count": 33,
      "metadata": {
        "colab": {
          "base_uri": "https://localhost:8080/"
        },
        "id": "MqfnA-5a9EUB",
        "outputId": "fbff017f-1e24-4449-f062-1312273b1285"
      },
      "outputs": [
        {
          "output_type": "stream",
          "name": "stdout",
          "text": [
            "+----+-----+\n",
            "|edad|casos|\n",
            "+----+-----+\n",
            "|  30| 2735|\n",
            "|  29| 2611|\n",
            "|  31| 2569|\n",
            "|  28| 2540|\n",
            "|  27| 2494|\n",
            "|  26| 2436|\n",
            "|  33| 2371|\n",
            "|  32| 2362|\n",
            "|  25| 2335|\n",
            "|  34| 2310|\n",
            "|  35| 2292|\n",
            "|  24| 2214|\n",
            "|  36| 2175|\n",
            "|  37| 2132|\n",
            "|  38| 2098|\n",
            "|  40| 2050|\n",
            "|  23| 2041|\n",
            "|  39| 1985|\n",
            "|  22| 1879|\n",
            "|  41| 1783|\n",
            "+----+-----+\n",
            "only showing top 20 rows\n",
            "\n"
          ]
        }
      ],
      "source": [
        "# SparkSQL\n",
        "edades_casos = spark.sql(\"SELECT edad, COUNT(*) AS casos FROM covid_data GROUP BY edad ORDER BY casos DESC\")\n",
        "edades_casos.show()"
      ]
    },
    {
      "cell_type": "code",
      "execution_count": null,
      "metadata": {
        "id": "KkgBKSH29EUB"
      },
      "outputs": [],
      "source": [
        "#  3.5 Realice la pregunta de negocio que quiera sobre los datos y responda con la correspondiente programación en Spark.\n",
        "## Pregunta de negocio: Top 10 departamentos con mayor numero de fallecidos"
      ]
    },
    {
      "cell_type": "code",
      "execution_count": 34,
      "metadata": {
        "colab": {
          "base_uri": "https://localhost:8080/"
        },
        "id": "5M5mfZKf9EUB",
        "outputId": "0181a0c0-0ec6-412a-f8d5-359397e4d8cc"
      },
      "outputs": [
        {
          "output_type": "stream",
          "name": "stdout",
          "text": [
            "+------------+-----+\n",
            "|departamento|count|\n",
            "+------------+-----+\n",
            "|      BOGOTA|  962|\n",
            "|BARRANQUILLA|  926|\n",
            "|   ATLANTICO|  662|\n",
            "|       VALLE|  565|\n",
            "|   CARTAGENA|  392|\n",
            "|      NARIÑO|  137|\n",
            "|       SUCRE|  103|\n",
            "|   MAGDALENA|  100|\n",
            "|       CHOCO|   93|\n",
            "|    AMAZONAS|   93|\n",
            "+------------+-----+\n",
            "\n"
          ]
        }
      ],
      "source": [
        "#Dataframes\n",
        "fallecidos_departamentos = df.filter(df['estado'] == 'Fallecido')\n",
        "departamentos_fallecidos = fallecidos_departamentos.groupBy(\"departamento\").count()\n",
        "departamentos_fallecidos = departamentos_fallecidos.orderBy(desc(\"count\"))\n",
        "top_10_departamentos_fallecidos = departamentos_fallecidos.limit(10)\n",
        "top_10_departamentos_fallecidos.show()"
      ]
    },
    {
      "cell_type": "code",
      "execution_count": 35,
      "metadata": {
        "colab": {
          "base_uri": "https://localhost:8080/"
        },
        "id": "AFH7XRm-9EUB",
        "outputId": "d15df4ba-df05-4e48-ed79-69291ea82a63"
      },
      "outputs": [
        {
          "output_type": "stream",
          "name": "stdout",
          "text": [
            "+------------+----------+\n",
            "|departamento|fallecidos|\n",
            "+------------+----------+\n",
            "|      BOGOTA|       962|\n",
            "|BARRANQUILLA|       926|\n",
            "|   ATLANTICO|       662|\n",
            "|       VALLE|       565|\n",
            "|   CARTAGENA|       392|\n",
            "|      NARIÑO|       137|\n",
            "|       SUCRE|       103|\n",
            "|   MAGDALENA|       100|\n",
            "|       CHOCO|        93|\n",
            "|    AMAZONAS|        93|\n",
            "+------------+----------+\n",
            "\n"
          ]
        }
      ],
      "source": [
        "#SparkSQL\n",
        "df.createOrReplaceTempView(\"covid_data\")\n",
        "top_10_departamentos_fallecidos = spark.sql(\"SELECT departamento, COUNT(*) AS fallecidos FROM covid_data WHERE estado = 'Fallecido' GROUP BY departamento ORDER BY fallecidos DESC LIMIT 10\")\n",
        "top_10_departamentos_fallecidos.show()"
      ]
    },
    {
      "cell_type": "code",
      "execution_count": 37,
      "metadata": {
        "id": "xWdBhjxF9EUB"
      },
      "outputs": [],
      "source": [
        "# 4. salve los datos del numeral 3 en Drive\n",
        "# Guardar los resultados en formato CSV en Google Drive\n",
        "ruta_destino = '/content/drive/MyDrive/resultados/'\n",
        "top_10_departamentos.coalesce(1).write.csv(ruta_destino + 'top_10_departamentos.csv', mode='overwrite')\n",
        "top_10_ciudades.coalesce(1).write.csv(ruta_destino + 'top_10_ciudades.csv', mode='overwrite')\n",
        "top_10_dias.coalesce(1).write.csv(ruta_destino + 'top_10_dias.csv', mode='overwrite')\n",
        "edades_casos.coalesce(1).write.csv(ruta_destino + 'distribucion_edades.csv', mode='overwrite')\n",
        "top_10_departamentos_fallecidos.coalesce(1).write.csv(ruta_destino + 'top_10_departamentos_fallecidos.csv', mode='overwrite')"
      ]
    },
    {
      "cell_type": "markdown",
      "source": [],
      "metadata": {
        "id": "9Y16Cwm19Hk4"
      }
    }
  ],
  "metadata": {
    "kernelspec": {
      "display_name": "PySpark",
      "language": "",
      "name": "pysparkkernel"
    },
    "language_info": {
      "codemirror_mode": {
        "name": "python",
        "version": 3
      },
      "mimetype": "text/x-python",
      "name": "pyspark",
      "pygments_lexer": "python3"
    },
    "colab": {
      "provenance": []
    }
  },
  "nbformat": 4,
  "nbformat_minor": 0
}
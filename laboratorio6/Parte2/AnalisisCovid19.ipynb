{
 "cells": [
  {
   "cell_type": "code",
   "execution_count": 1,
   "metadata": {},
   "outputs": [
    {
     "name": "stdout",
     "output_type": "stream",
     "text": [
      "Starting Spark application\n"
     ]
    },
    {
     "data": {
      "text/html": [
       "<table>\n",
       "<tr><th>ID</th><th>YARN Application ID</th><th>Kind</th><th>State</th><th>Spark UI</th><th>Driver log</th><th>Current session?</th></tr><tr><td>0</td><td>application_1686064373536_0002</td><td>pyspark</td><td>idle</td><td><a target=\"_blank\" href=\"http://ip-172-31-72-217.ec2.internal:20888/proxy/application_1686064373536_0002/\">Link</a></td><td><a target=\"_blank\" href=\"http://ip-172-31-70-209.ec2.internal:8042/node/containerlogs/container_1686064373536_0002_01_000001/livy\">Link</a></td><td>✔</td></tr></table>"
      ],
      "text/plain": [
       "<IPython.core.display.HTML object>"
      ]
     },
     "metadata": {},
     "output_type": "display_data"
    },
    {
     "data": {
      "application/vnd.jupyter.widget-view+json": {
       "model_id": "",
       "version_major": 2,
       "version_minor": 0
      },
      "text/plain": [
       "FloatProgress(value=0.0, bar_style='info', description='Progress:', layout=Layout(height='25px', width='50%'),…"
      ]
     },
     "metadata": {},
     "output_type": "display_data"
    },
    {
     "name": "stdout",
     "output_type": "stream",
     "text": [
      "SparkSession available as 'spark'.\n"
     ]
    },
    {
     "data": {
      "application/vnd.jupyter.widget-view+json": {
       "model_id": "",
       "version_major": 2,
       "version_minor": 0
      },
      "text/plain": [
       "FloatProgress(value=0.0, bar_style='info', description='Progress:', layout=Layout(height='25px', width='50%'),…"
      ]
     },
     "metadata": {},
     "output_type": "display_data"
    }
   ],
   "source": [
    "from pyspark.sql import SparkSession"
   ]
  },
  {
   "cell_type": "code",
   "execution_count": 2,
   "metadata": {},
   "outputs": [
    {
     "data": {
      "application/vnd.jupyter.widget-view+json": {
       "model_id": "",
       "version_major": 2,
       "version_minor": 0
      },
      "text/plain": [
       "FloatProgress(value=0.0, bar_style='info', description='Progress:', layout=Layout(height='25px', width='50%'),…"
      ]
     },
     "metadata": {},
     "output_type": "display_data"
    }
   ],
   "source": [
    "spark=SparkSession.builder.appName('data_processing').getOrCreate()"
   ]
  },
  {
   "cell_type": "code",
   "execution_count": 4,
   "metadata": {},
   "outputs": [
    {
     "data": {
      "application/vnd.jupyter.widget-view+json": {
       "model_id": "",
       "version_major": 2,
       "version_minor": 0
      },
      "text/plain": [
       "FloatProgress(value=0.0, bar_style='info', description='Progress:', layout=Layout(height='25px', width='50%'),…"
      ]
     },
     "metadata": {},
     "output_type": "display_data"
    }
   ],
   "source": [
    "df=spark.read.csv('s3://st0263jaramirezj/covid19/Casos_positivos_de_COVID-19_en_Colombia-100K.csv',inferSchema=True,header=True)"
   ]
  },
  {
   "cell_type": "code",
   "execution_count": 5,
   "metadata": {},
   "outputs": [
    {
     "data": {
      "application/vnd.jupyter.widget-view+json": {
       "model_id": "",
       "version_major": 2,
       "version_minor": 0
      },
      "text/plain": [
       "FloatProgress(value=0.0, bar_style='info', description='Progress:', layout=Layout(height='25px', width='50%'),…"
      ]
     },
     "metadata": {},
     "output_type": "display_data"
    },
    {
     "name": "stdout",
     "output_type": "stream",
     "text": [
      "['fecha reporte web', 'ID de caso', 'Fecha de notificación', 'Código DIVIPOLA departamento', 'Nombre departamento', 'Código DIVIPOLA municipio', 'Nombre municipio', 'Edad', 'Unidad de medida de edad', 'Sexo', 'Tipo de contagio', 'Ubicación del caso', 'Estado', 'Código ISO del país', 'Nombre del país', 'Recuperado', 'Fecha de inicio de síntomas', 'Fecha de muerte', 'Fecha de diagnóstico', 'Fecha de recuperación', 'Tipo de recuperación', 'Pertenencia étnica', 'Nombre del grupo étnico']"
     ]
    }
   ],
   "source": [
    "#2.1 columnas\n",
    "df.columns"
   ]
  },
  {
   "cell_type": "code",
   "execution_count": 7,
   "metadata": {},
   "outputs": [
    {
     "data": {
      "application/vnd.jupyter.widget-view+json": {
       "model_id": "",
       "version_major": 2,
       "version_minor": 0
      },
      "text/plain": [
       "FloatProgress(value=0.0, bar_style='info', description='Progress:', layout=Layout(height='25px', width='50%'),…"
      ]
     },
     "metadata": {},
     "output_type": "display_data"
    },
    {
     "name": "stdout",
     "output_type": "stream",
     "text": [
      "root\n",
      " |-- fecha reporte web: string (nullable = true)\n",
      " |-- ID de caso: integer (nullable = true)\n",
      " |-- Fecha de notificación: string (nullable = true)\n",
      " |-- Código DIVIPOLA departamento: integer (nullable = true)\n",
      " |-- Nombre departamento: string (nullable = true)\n",
      " |-- Código DIVIPOLA municipio: integer (nullable = true)\n",
      " |-- Nombre municipio: string (nullable = true)\n",
      " |-- Edad: integer (nullable = true)\n",
      " |-- Unidad de medida de edad: integer (nullable = true)\n",
      " |-- Sexo: string (nullable = true)\n",
      " |-- Tipo de contagio: string (nullable = true)\n",
      " |-- Ubicación del caso: string (nullable = true)\n",
      " |-- Estado: string (nullable = true)\n",
      " |-- Código ISO del país: integer (nullable = true)\n",
      " |-- Nombre del país: string (nullable = true)\n",
      " |-- Recuperado: string (nullable = true)\n",
      " |-- Fecha de inicio de síntomas: string (nullable = true)\n",
      " |-- Fecha de muerte: string (nullable = true)\n",
      " |-- Fecha de diagnóstico: string (nullable = true)\n",
      " |-- Fecha de recuperación: string (nullable = true)\n",
      " |-- Tipo de recuperación: string (nullable = true)\n",
      " |-- Pertenencia étnica: integer (nullable = true)\n",
      " |-- Nombre del grupo étnico: string (nullable = true)"
     ]
    }
   ],
   "source": [
    "# 2.2 tipos de datos\n",
    "df.printSchema()"
   ]
  },
  {
   "cell_type": "code",
   "execution_count": 11,
   "metadata": {},
   "outputs": [
    {
     "data": {
      "application/vnd.jupyter.widget-view+json": {
       "model_id": "",
       "version_major": 2,
       "version_minor": 0
      },
      "text/plain": [
       "FloatProgress(value=0.0, bar_style='info', description='Progress:', layout=Layout(height='25px', width='50%'),…"
      ]
     },
     "metadata": {},
     "output_type": "display_data"
    },
    {
     "name": "stdout",
     "output_type": "stream",
     "text": [
      "+----------+-------------------+----+\n",
      "|ID de caso|Nombre departamento|Edad|\n",
      "+----------+-------------------+----+\n",
      "|         1|             BOGOTA|  19|\n",
      "|         2|              VALLE|  34|\n",
      "|         3|          ANTIOQUIA|  50|\n",
      "|         4|          ANTIOQUIA|  55|\n",
      "|         5|          ANTIOQUIA|  25|\n",
      "|         6|          ANTIOQUIA|  27|\n",
      "|         7|          CARTAGENA|  85|\n",
      "|         8|             BOGOTA|  22|\n",
      "|         9|             BOGOTA|  28|\n",
      "|        10|             BOGOTA|  36|\n",
      "+----------+-------------------+----+\n",
      "only showing top 10 rows"
     ]
    }
   ],
   "source": [
    "#   2.3 seleccionar algunas columnas\n",
    "df.select('ID de caso','Nombre departamento','Edad').show(10)"
   ]
  },
  {
   "cell_type": "code",
   "execution_count": 14,
   "metadata": {},
   "outputs": [
    {
     "data": {
      "application/vnd.jupyter.widget-view+json": {
       "model_id": "",
       "version_major": 2,
       "version_minor": 0
      },
      "text/plain": [
       "FloatProgress(value=0.0, bar_style='info', description='Progress:', layout=Layout(height='25px', width='50%'),…"
      ]
     },
     "metadata": {},
     "output_type": "display_data"
    },
    {
     "name": "stdout",
     "output_type": "stream",
     "text": [
      "['fecha_reporte', 'id', 'fecha_notificacion', 'codigo_departamento', 'departamento', 'codigo_municipio', 'municipio', 'edad', 'Unidad de medida de edad', 'sexo', 'tipo_contagio', 'ubicacion_caso', 'estado', 'codigo_pais', 'nombre_pais', 'recuperado', 'fecha_inicio_sintomas', 'fecha_muerte', 'fecha_diagnostico', 'fecha_recuperacion', 'tipo_recuperacion', 'pertenencia_etnica', 'nombre_etnia']"
     ]
    }
   ],
   "source": [
    "# 2.4 Renombrar columnas\n",
    "df =df.withColumnRenamed(\"fecha reporte web\", \"fecha_reporte\")\n",
    "df =df.withColumnRenamed(\"ID de caso\", \"id\")\n",
    "df =df.withColumnRenamed(\"Fecha de notificación\", \"fecha_notificacion\")\n",
    "df =df.withColumnRenamed(\"Código DIVIPOLA departamento\", \"codigo_departamento\")\n",
    "df =df.withColumnRenamed(\"Nombre departamento\", \"departamento\")\n",
    "df =df.withColumnRenamed(\"Código DIVIPOLA municipio\", \"codigo_municipio\")\n",
    "df =df.withColumnRenamed(\"Nombre municipio\", \"municipio\")\n",
    "df =df.withColumnRenamed(\"Edad\", \"edad\")\n",
    "df =df.withColumnRenamed(\"Sexo\", \"sexo\")\n",
    "df =df.withColumnRenamed(\"Tipo de contagio\", \"tipo_contagio\")\n",
    "df =df.withColumnRenamed(\"Ubicación del caso\", \"ubicacion_caso\")\n",
    "df =df.withColumnRenamed(\"Estado\", \"estado\")\n",
    "df =df.withColumnRenamed(\"Código ISO del país\", \"codigo_pais\")\n",
    "df =df.withColumnRenamed(\"Nombre del país\", \"nombre_pais\")\n",
    "df =df.withColumnRenamed(\"Recuperado\", \"recuperado\")\n",
    "df =df.withColumnRenamed(\"Fecha de inicio de síntomas\", \"fecha_inicio_sintomas\")\n",
    "df =df.withColumnRenamed(\"Fecha de muerte\", \"fecha_muerte\")\n",
    "df =df.withColumnRenamed(\"Fecha de diagnóstico\", \"fecha_diagnostico\")\n",
    "df =df.withColumnRenamed(\"Fecha de recuperación\", \"fecha_recuperacion\")\n",
    "df =df.withColumnRenamed(\"Fecha de recuperación\", \"fecha_recuperacion\")\n",
    "df =df.withColumnRenamed(\"Tipo de recuperación\", \"tipo_recuperacion\")\n",
    "df =df.withColumnRenamed(\"Pertenencia étnica\", \"pertenencia_etnica\")\n",
    "df =df.withColumnRenamed(\"Nombre del grupo étnico\", \"nombre_etnia\")\n",
    "df.columns"
   ]
  },
  {
   "cell_type": "code",
   "execution_count": 18,
   "metadata": {},
   "outputs": [
    {
     "data": {
      "application/vnd.jupyter.widget-view+json": {
       "model_id": "",
       "version_major": 2,
       "version_minor": 0
      },
      "text/plain": [
       "FloatProgress(value=0.0, bar_style='info', description='Progress:', layout=Layout(height='25px', width='50%'),…"
      ]
     },
     "metadata": {},
     "output_type": "display_data"
    },
    {
     "name": "stdout",
     "output_type": "stream",
     "text": [
      "+-------------------+------------+---------+\n",
      "| ubicacion_completa|departamento|municipio|\n",
      "+-------------------+------------+---------+\n",
      "|     BOGOTA, BOGOTA|      BOGOTA|   BOGOTA|\n",
      "|        VALLE, BUGA|       VALLE|     BUGA|\n",
      "|ANTIOQUIA, MEDELLIN|   ANTIOQUIA| MEDELLIN|\n",
      "|ANTIOQUIA, MEDELLIN|   ANTIOQUIA| MEDELLIN|\n",
      "|ANTIOQUIA, MEDELLIN|   ANTIOQUIA| MEDELLIN|\n",
      "+-------------------+------------+---------+\n",
      "only showing top 5 rows"
     ]
    }
   ],
   "source": [
    "# 2.5 Agregar columnas\n",
    "from pyspark.sql.functions import concat, col, lit\n",
    "df = df.withColumn(\"ubicacion_completa\", concat(col(\"departamento\"), lit(\", \"), col(\"municipio\")))\n",
    "df.select('ubicacion_completa','departamento','municipio').show(5)"
   ]
  },
  {
   "cell_type": "code",
   "execution_count": 20,
   "metadata": {
    "scrolled": true
   },
   "outputs": [
    {
     "data": {
      "application/vnd.jupyter.widget-view+json": {
       "model_id": "",
       "version_major": 2,
       "version_minor": 0
      },
      "text/plain": [
       "FloatProgress(value=0.0, bar_style='info', description='Progress:', layout=Layout(height='25px', width='50%'),…"
      ]
     },
     "metadata": {},
     "output_type": "display_data"
    },
    {
     "name": "stdout",
     "output_type": "stream",
     "text": [
      "['fecha_reporte', 'id', 'fecha_notificacion', 'codigo_departamento', 'departamento', 'codigo_municipio', 'municipio', 'edad', 'Unidad de medida de edad', 'sexo', 'tipo_contagio', 'ubicacion_caso', 'estado', 'codigo_pais', 'nombre_pais', 'recuperado', 'fecha_inicio_sintomas', 'fecha_muerte', 'fecha_diagnostico', 'fecha_recuperacion', 'tipo_recuperacion', 'ubicacion_completa']"
     ]
    }
   ],
   "source": [
    "# 2.6 borrar columnas\n",
    "df = df.drop(\"pertenencia_etnica\",\"nombre_etnia\")\n",
    "df.columns"
   ]
  },
  {
   "cell_type": "code",
   "execution_count": 23,
   "metadata": {},
   "outputs": [
    {
     "data": {
      "application/vnd.jupyter.widget-view+json": {
       "model_id": "",
       "version_major": 2,
       "version_minor": 0
      },
      "text/plain": [
       "FloatProgress(value=0.0, bar_style='info', description='Progress:', layout=Layout(height='25px', width='50%'),…"
      ]
     },
     "metadata": {},
     "output_type": "display_data"
    },
    {
     "name": "stdout",
     "output_type": "stream",
     "text": [
      "+---+----+\n",
      "| id|edad|\n",
      "+---+----+\n",
      "|  4|  55|\n",
      "|  7|  85|\n",
      "| 12|  74|\n",
      "| 13|  68|\n",
      "| 16|  61|\n",
      "| 17|  73|\n",
      "| 18|  54|\n",
      "| 19|  54|\n",
      "| 29|  55|\n",
      "| 31|  65|\n",
      "+---+----+\n",
      "only showing top 10 rows"
     ]
    }
   ],
   "source": [
    "# 2.7 Filtrar datos\n",
    "df.select('id','edad').filter(df['edad'] >50).show(10)"
   ]
  },
  {
   "cell_type": "code",
   "execution_count": 24,
   "metadata": {},
   "outputs": [
    {
     "data": {
      "application/vnd.jupyter.widget-view+json": {
       "model_id": "",
       "version_major": 2,
       "version_minor": 0
      },
      "text/plain": [
       "FloatProgress(value=0.0, bar_style='info', description='Progress:', layout=Layout(height='25px', width='50%'),…"
      ]
     },
     "metadata": {},
     "output_type": "display_data"
    },
    {
     "name": "stdout",
     "output_type": "stream",
     "text": [
      "+---+------------+\n",
      "| id|departamento|\n",
      "+---+------------+\n",
      "|  3|   ANTIOQUIA|\n",
      "|  4|   ANTIOQUIA|\n",
      "|  5|   ANTIOQUIA|\n",
      "|  6|   ANTIOQUIA|\n",
      "| 20|   ANTIOQUIA|\n",
      "+---+------------+\n",
      "only showing top 5 rows"
     ]
    }
   ],
   "source": [
    "df.select('id','departamento').filter(df['departamento'] == 'ANTIOQUIA').show(5)"
   ]
  },
  {
   "cell_type": "code",
   "execution_count": 28,
   "metadata": {},
   "outputs": [
    {
     "data": {
      "application/vnd.jupyter.widget-view+json": {
       "model_id": "",
       "version_major": 2,
       "version_minor": 0
      },
      "text/plain": [
       "FloatProgress(value=0.0, bar_style='info', description='Progress:', layout=Layout(height='25px', width='50%'),…"
      ]
     },
     "metadata": {},
     "output_type": "display_data"
    },
    {
     "name": "stdout",
     "output_type": "stream",
     "text": [
      "+----+-----------+\n",
      "|edad|doubled_age|\n",
      "+----+-----------+\n",
      "|  19|         38|\n",
      "|  34|         68|\n",
      "|  50|        100|\n",
      "|  55|        110|\n",
      "|  25|         50|\n",
      "+----+-----------+\n",
      "only showing top 5 rows"
     ]
    }
   ],
   "source": [
    "# 2.8 ejecutar alguna función UDF o lambda sobre alguna columna creando una nueva.\n",
    "from pyspark.sql.functions import udf\n",
    "fun_lambda = udf(lambda column_value: column_value * 2)\n",
    "df = df.withColumn(\"doubled_age\", fun_lambda(df[\"edad\"]))\n",
    "df.select('edad','doubled_age').show(5)"
   ]
  },
  {
   "cell_type": "code",
   "execution_count": null,
   "metadata": {},
   "outputs": [],
   "source": [
    "# 3. contestar las siguientes preguntas de negocio sobre los datos de covid:"
   ]
  },
  {
   "cell_type": "code",
   "execution_count": null,
   "metadata": {},
   "outputs": [],
   "source": [
    "#    3.1 Los 10 departamentos con más casos de covid en Colombia ordenados de mayor a menor."
   ]
  },
  {
   "cell_type": "code",
   "execution_count": 37,
   "metadata": {},
   "outputs": [
    {
     "data": {
      "application/vnd.jupyter.widget-view+json": {
       "model_id": "",
       "version_major": 2,
       "version_minor": 0
      },
      "text/plain": [
       "FloatProgress(value=0.0, bar_style='info', description='Progress:', layout=Layout(height='25px', width='50%'),…"
      ]
     },
     "metadata": {},
     "output_type": "display_data"
    },
    {
     "name": "stdout",
     "output_type": "stream",
     "text": [
      "+------------+-----+\n",
      "|departamento|count|\n",
      "+------------+-----+\n",
      "|      BOGOTA|30016|\n",
      "|BARRANQUILLA|13065|\n",
      "|   ATLANTICO|10994|\n",
      "|       VALLE|10404|\n",
      "|   CARTAGENA| 8333|\n",
      "|   ANTIOQUIA| 4554|\n",
      "|      NARIÑO| 3520|\n",
      "|CUNDINAMARCA| 2827|\n",
      "|    AMAZONAS| 2317|\n",
      "|       CHOCO| 1636|\n",
      "+------------+-----+"
     ]
    }
   ],
   "source": [
    "# Dataframes\n",
    "from pyspark.sql.functions import desc\n",
    "departamentos_casos = df.groupBy(\"departamento\").count()\n",
    "departamentos_casos = departamentos_casos.orderBy(desc(\"count\"))\n",
    "top_10_departamentos = departamentos_casos.limit(10)\n",
    "top_10_departamentos.show()"
   ]
  },
  {
   "cell_type": "code",
   "execution_count": 33,
   "metadata": {},
   "outputs": [
    {
     "data": {
      "application/vnd.jupyter.widget-view+json": {
       "model_id": "",
       "version_major": 2,
       "version_minor": 0
      },
      "text/plain": [
       "FloatProgress(value=0.0, bar_style='info', description='Progress:', layout=Layout(height='25px', width='50%'),…"
      ]
     },
     "metadata": {},
     "output_type": "display_data"
    },
    {
     "name": "stdout",
     "output_type": "stream",
     "text": [
      "+------------+-----+\n",
      "|departamento|casos|\n",
      "+------------+-----+\n",
      "|      BOGOTA|30016|\n",
      "|BARRANQUILLA|13065|\n",
      "|   ATLANTICO|10994|\n",
      "|       VALLE|10404|\n",
      "|   CARTAGENA| 8333|\n",
      "|   ANTIOQUIA| 4554|\n",
      "|      NARIÑO| 3520|\n",
      "|CUNDINAMARCA| 2827|\n",
      "|    AMAZONAS| 2317|\n",
      "|       CHOCO| 1636|\n",
      "+------------+-----+"
     ]
    }
   ],
   "source": [
    "# SparkSQL\n",
    "df.createOrReplaceTempView(\"covid_data\")\n",
    "top_10_departamentos = spark.sql(\"SELECT departamento, COUNT(*) AS casos FROM covid_data GROUP BY departamento ORDER BY casos DESC LIMIT 10\")\n",
    "top_10_departamentos.show()"
   ]
  },
  {
   "cell_type": "code",
   "execution_count": null,
   "metadata": {},
   "outputs": [],
   "source": [
    "#      3.2 Las 10 ciudades con más casos de covid en Colombia ordenados de mayor a menor."
   ]
  },
  {
   "cell_type": "code",
   "execution_count": 38,
   "metadata": {},
   "outputs": [
    {
     "data": {
      "application/vnd.jupyter.widget-view+json": {
       "model_id": "",
       "version_major": 2,
       "version_minor": 0
      },
      "text/plain": [
       "FloatProgress(value=0.0, bar_style='info', description='Progress:', layout=Layout(height='25px', width='50%'),…"
      ]
     },
     "metadata": {},
     "output_type": "display_data"
    },
    {
     "name": "stdout",
     "output_type": "stream",
     "text": [
      "+------------+-----+\n",
      "|   municipio|count|\n",
      "+------------+-----+\n",
      "|      BOGOTA|30016|\n",
      "|BARRANQUILLA|13065|\n",
      "|   CARTAGENA| 8333|\n",
      "|        CALI| 7747|\n",
      "|     SOLEDAD| 6233|\n",
      "|     LETICIA| 2194|\n",
      "|    MEDELLIN| 2137|\n",
      "|      TUMACO| 1501|\n",
      "|BUENAVENTURA| 1453|\n",
      "|      QUIBDO| 1367|\n",
      "+------------+-----+"
     ]
    }
   ],
   "source": [
    "# Dataframes\n",
    "ciudades_casos = df.groupBy(\"municipio\").count()\n",
    "ciudades_casos = ciudades_casos.orderBy(desc(\"count\"))\n",
    "top_10_ciudades = ciudades_casos.limit(10)\n",
    "top_10_ciudades.show()"
   ]
  },
  {
   "cell_type": "code",
   "execution_count": 39,
   "metadata": {},
   "outputs": [
    {
     "data": {
      "application/vnd.jupyter.widget-view+json": {
       "model_id": "",
       "version_major": 2,
       "version_minor": 0
      },
      "text/plain": [
       "FloatProgress(value=0.0, bar_style='info', description='Progress:', layout=Layout(height='25px', width='50%'),…"
      ]
     },
     "metadata": {},
     "output_type": "display_data"
    },
    {
     "name": "stdout",
     "output_type": "stream",
     "text": [
      "+------------+-----+\n",
      "|   municipio|casos|\n",
      "+------------+-----+\n",
      "|      BOGOTA|30016|\n",
      "|BARRANQUILLA|13065|\n",
      "|   CARTAGENA| 8333|\n",
      "|        CALI| 7747|\n",
      "|     SOLEDAD| 6233|\n",
      "|     LETICIA| 2194|\n",
      "|    MEDELLIN| 2137|\n",
      "|      TUMACO| 1501|\n",
      "|BUENAVENTURA| 1453|\n",
      "|      QUIBDO| 1367|\n",
      "+------------+-----+"
     ]
    }
   ],
   "source": [
    "# SparkSQL\n",
    "top_10_ciudades = spark.sql(\"SELECT municipio, COUNT(*) AS casos FROM covid_data GROUP BY municipio ORDER BY casos DESC LIMIT 10\")\n",
    "top_10_ciudades.show()"
   ]
  },
  {
   "cell_type": "code",
   "execution_count": null,
   "metadata": {},
   "outputs": [],
   "source": [
    "#        3.3 Los 10 días con más casos de COVID-19 en Colombia ordenados de mayor a menor."
   ]
  },
  {
   "cell_type": "code",
   "execution_count": 40,
   "metadata": {},
   "outputs": [
    {
     "data": {
      "application/vnd.jupyter.widget-view+json": {
       "model_id": "",
       "version_major": 2,
       "version_minor": 0
      },
      "text/plain": [
       "FloatProgress(value=0.0, bar_style='info', description='Progress:', layout=Layout(height='25px', width='50%'),…"
      ]
     },
     "metadata": {},
     "output_type": "display_data"
    },
    {
     "name": "stdout",
     "output_type": "stream",
     "text": [
      "+-----------------+-----+\n",
      "|    fecha_reporte|count|\n",
      "+-----------------+-----+\n",
      "|27/6/2020 0:00:00| 4149|\n",
      "|26/6/2020 0:00:00| 3843|\n",
      "|24/6/2020 0:00:00| 3541|\n",
      "|25/6/2020 0:00:00| 3486|\n",
      "|29/6/2020 0:00:00| 3274|\n",
      "|28/6/2020 0:00:00| 3178|\n",
      "|18/6/2020 0:00:00| 3171|\n",
      "|19/6/2020 0:00:00| 3059|\n",
      "|21/6/2020 0:00:00| 3019|\n",
      "|30/6/2020 0:00:00| 2803|\n",
      "+-----------------+-----+"
     ]
    }
   ],
   "source": [
    "# Dataframes\n",
    "dias_casos = df.groupBy(\"fecha_reporte\").count()\n",
    "dias_casos = dias_casos.orderBy(desc(\"count\"))\n",
    "top_10_dias = dias_casos.limit(10)\n",
    "top_10_dias.show()"
   ]
  },
  {
   "cell_type": "code",
   "execution_count": 41,
   "metadata": {},
   "outputs": [
    {
     "data": {
      "application/vnd.jupyter.widget-view+json": {
       "model_id": "",
       "version_major": 2,
       "version_minor": 0
      },
      "text/plain": [
       "FloatProgress(value=0.0, bar_style='info', description='Progress:', layout=Layout(height='25px', width='50%'),…"
      ]
     },
     "metadata": {},
     "output_type": "display_data"
    },
    {
     "name": "stdout",
     "output_type": "stream",
     "text": [
      "+-----------------+-----+\n",
      "|    fecha_reporte|casos|\n",
      "+-----------------+-----+\n",
      "|27/6/2020 0:00:00| 4149|\n",
      "|26/6/2020 0:00:00| 3843|\n",
      "|24/6/2020 0:00:00| 3541|\n",
      "|25/6/2020 0:00:00| 3486|\n",
      "|29/6/2020 0:00:00| 3274|\n",
      "|28/6/2020 0:00:00| 3178|\n",
      "|18/6/2020 0:00:00| 3171|\n",
      "|19/6/2020 0:00:00| 3059|\n",
      "|21/6/2020 0:00:00| 3019|\n",
      "|30/6/2020 0:00:00| 2803|\n",
      "+-----------------+-----+"
     ]
    }
   ],
   "source": [
    "#SparkSQL\n",
    "top_10_dias = spark.sql(\"SELECT fecha_reporte, COUNT(*) AS casos FROM covid_data GROUP BY fecha_reporte ORDER BY casos DESC LIMIT 10\")\n",
    "top_10_dias.show()"
   ]
  },
  {
   "cell_type": "code",
   "execution_count": null,
   "metadata": {},
   "outputs": [],
   "source": [
    "#    3.4 Distribución de casos por edades de COVID-19 en Colombia."
   ]
  },
  {
   "cell_type": "code",
   "execution_count": 43,
   "metadata": {},
   "outputs": [
    {
     "data": {
      "application/vnd.jupyter.widget-view+json": {
       "model_id": "",
       "version_major": 2,
       "version_minor": 0
      },
      "text/plain": [
       "FloatProgress(value=0.0, bar_style='info', description='Progress:', layout=Layout(height='25px', width='50%'),…"
      ]
     },
     "metadata": {},
     "output_type": "display_data"
    },
    {
     "name": "stdout",
     "output_type": "stream",
     "text": [
      "+----+-----+\n",
      "|edad|count|\n",
      "+----+-----+\n",
      "|  30| 2735|\n",
      "|  29| 2611|\n",
      "|  31| 2569|\n",
      "|  28| 2540|\n",
      "|  27| 2494|\n",
      "|  26| 2436|\n",
      "|  33| 2371|\n",
      "|  32| 2362|\n",
      "|  25| 2335|\n",
      "|  34| 2310|\n",
      "|  35| 2292|\n",
      "|  24| 2214|\n",
      "|  36| 2175|\n",
      "|  37| 2132|\n",
      "|  38| 2098|\n",
      "|  40| 2050|\n",
      "|  23| 2041|\n",
      "|  39| 1985|\n",
      "|  22| 1879|\n",
      "|  41| 1783|\n",
      "+----+-----+\n",
      "only showing top 20 rows"
     ]
    }
   ],
   "source": [
    "# Dataframes\n",
    "edades_casos = df.groupBy(\"edad\").count()\n",
    "edades_casos = edades_casos.orderBy(desc(\"count\"))\n",
    "edades_casos.show()"
   ]
  },
  {
   "cell_type": "code",
   "execution_count": 44,
   "metadata": {},
   "outputs": [
    {
     "data": {
      "application/vnd.jupyter.widget-view+json": {
       "model_id": "",
       "version_major": 2,
       "version_minor": 0
      },
      "text/plain": [
       "FloatProgress(value=0.0, bar_style='info', description='Progress:', layout=Layout(height='25px', width='50%'),…"
      ]
     },
     "metadata": {},
     "output_type": "display_data"
    },
    {
     "name": "stdout",
     "output_type": "stream",
     "text": [
      "+----+-----+\n",
      "|edad|casos|\n",
      "+----+-----+\n",
      "|  30| 2735|\n",
      "|  29| 2611|\n",
      "|  31| 2569|\n",
      "|  28| 2540|\n",
      "|  27| 2494|\n",
      "|  26| 2436|\n",
      "|  33| 2371|\n",
      "|  32| 2362|\n",
      "|  25| 2335|\n",
      "|  34| 2310|\n",
      "|  35| 2292|\n",
      "|  24| 2214|\n",
      "|  36| 2175|\n",
      "|  37| 2132|\n",
      "|  38| 2098|\n",
      "|  40| 2050|\n",
      "|  23| 2041|\n",
      "|  39| 1985|\n",
      "|  22| 1879|\n",
      "|  41| 1783|\n",
      "+----+-----+\n",
      "only showing top 20 rows"
     ]
    }
   ],
   "source": [
    "# SparkSQL\n",
    "edades_casos = spark.sql(\"SELECT edad, COUNT(*) AS casos FROM covid_data GROUP BY edad ORDER BY casos DESC\")\n",
    "edades_casos.show()"
   ]
  },
  {
   "cell_type": "code",
   "execution_count": null,
   "metadata": {},
   "outputs": [],
   "source": [
    "#  3.5 Realice la pregunta de negocio que quiera sobre los datos y responda con la correspondiente programación en Spark.\n",
    "## Pregunta de negocio: Top 10 departamentos con mayor numero de fallecidos"
   ]
  },
  {
   "cell_type": "code",
   "execution_count": 58,
   "metadata": {},
   "outputs": [
    {
     "data": {
      "application/vnd.jupyter.widget-view+json": {
       "model_id": "",
       "version_major": 2,
       "version_minor": 0
      },
      "text/plain": [
       "FloatProgress(value=0.0, bar_style='info', description='Progress:', layout=Layout(height='25px', width='50%'),…"
      ]
     },
     "metadata": {},
     "output_type": "display_data"
    },
    {
     "name": "stdout",
     "output_type": "stream",
     "text": [
      "+------------+-----+\n",
      "|departamento|count|\n",
      "+------------+-----+\n",
      "|      BOGOTA|  962|\n",
      "|BARRANQUILLA|  926|\n",
      "|   ATLANTICO|  662|\n",
      "|       VALLE|  565|\n",
      "|   CARTAGENA|  392|\n",
      "|      NARIÑO|  137|\n",
      "|       SUCRE|  103|\n",
      "|   MAGDALENA|  100|\n",
      "|    AMAZONAS|   93|\n",
      "|       CHOCO|   93|\n",
      "+------------+-----+"
     ]
    }
   ],
   "source": [
    "#Dataframes\n",
    "fallecidos_departamentos = df.filter(df['estado'] == 'Fallecido')\n",
    "departamentos_fallecidos = fallecidos_departamentos.groupBy(\"departamento\").count()\n",
    "departamentos_fallecidos = departamentos_fallecidos.orderBy(desc(\"count\"))\n",
    "top_10_departamentos_fallecidos = departamentos_fallecidos.limit(10)\n",
    "top_10_departamentos_fallecidos.show()"
   ]
  },
  {
   "cell_type": "code",
   "execution_count": 59,
   "metadata": {},
   "outputs": [
    {
     "data": {
      "application/vnd.jupyter.widget-view+json": {
       "model_id": "",
       "version_major": 2,
       "version_minor": 0
      },
      "text/plain": [
       "FloatProgress(value=0.0, bar_style='info', description='Progress:', layout=Layout(height='25px', width='50%'),…"
      ]
     },
     "metadata": {},
     "output_type": "display_data"
    },
    {
     "name": "stdout",
     "output_type": "stream",
     "text": [
      "+------------+----------+\n",
      "|departamento|fallecidos|\n",
      "+------------+----------+\n",
      "|      BOGOTA|       962|\n",
      "|BARRANQUILLA|       926|\n",
      "|   ATLANTICO|       662|\n",
      "|       VALLE|       565|\n",
      "|   CARTAGENA|       392|\n",
      "|      NARIÑO|       137|\n",
      "|       SUCRE|       103|\n",
      "|   MAGDALENA|       100|\n",
      "|    AMAZONAS|        93|\n",
      "|       CHOCO|        93|\n",
      "+------------+----------+"
     ]
    }
   ],
   "source": [
    "#SparkSQL\n",
    "df.createOrReplaceTempView(\"covid_data\")\n",
    "top_10_departamentos_fallecidos = spark.sql(\"SELECT departamento, COUNT(*) AS fallecidos FROM covid_data WHERE estado = 'Fallecido' GROUP BY departamento ORDER BY fallecidos DESC LIMIT 10\")\n",
    "top_10_departamentos_fallecidos.show()"
   ]
  },
  {
   "cell_type": "code",
   "execution_count": 63,
   "metadata": {},
   "outputs": [
    {
     "data": {
      "application/vnd.jupyter.widget-view+json": {
       "model_id": "",
       "version_major": 2,
       "version_minor": 0
      },
      "text/plain": [
       "FloatProgress(value=0.0, bar_style='info', description='Progress:', layout=Layout(height='25px', width='50%'),…"
      ]
     },
     "metadata": {},
     "output_type": "display_data"
    }
   ],
   "source": [
    "# 4. salve los datos del numeral 3, en el bucket público de cada estudiante\n",
    "# Guardar los resultados en formato CSV en el bucket de S3\n",
    "top_10_departamentos.coalesce(1).write.format(\"csv\").option(\"header\",\"true\").save(\"s3://st0263jaramirezj/covid19/top_10_departamentos.csv\")\n",
    "top_10_ciudades.coalesce(1).write.format(\"csv\").option(\"header\",\"true\").save(\"s3://st0263jaramirezj/covid19/top_10_ciudades.csv\")\n",
    "top_10_dias.coalesce(1).write.format(\"csv\").option(\"header\",\"true\").save(\"s3://st0263jaramirezj/covid19/top_10_dias.csv\")\n",
    "edades_casos.coalesce(1).write.format(\"csv\").option(\"header\",\"true\").save(\"s3://st0263jaramirezj/covid19/edades_casos.csv\")\n",
    "top_10_departamentos_fallecidos.coalesce(1).write.format(\"csv\").option(\"header\",\"true\").save(\"s3://st0263jaramirezj/covid19/top_10_departamentos_fallecidos.csv\")"
   ]
  },
  {
   "cell_type": "code",
   "execution_count": null,
   "metadata": {},
   "outputs": [],
   "source": []
  }
 ],
 "metadata": {
  "kernelspec": {
   "display_name": "PySpark",
   "language": "",
   "name": "pysparkkernel"
  },
  "language_info": {
   "codemirror_mode": {
    "name": "python",
    "version": 3
   },
   "mimetype": "text/x-python",
   "name": "pyspark",
   "pygments_lexer": "python3"
  }
 },
 "nbformat": 4,
 "nbformat_minor": 4
}
